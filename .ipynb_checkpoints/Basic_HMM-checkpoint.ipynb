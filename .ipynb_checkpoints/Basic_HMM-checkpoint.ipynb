{
 "cells": [
  {
   "cell_type": "code",
   "execution_count": 1,
   "metadata": {
    "collapsed": true
   },
   "outputs": [],
   "source": [
    "import numpy as np\n",
    "import pandas as pd\n",
    "\n",
    "import matplotlib.pyplot as plt\n",
    "%matplotlib inline"
   ]
  },
  {
   "cell_type": "code",
   "execution_count": 9,
   "metadata": {
    "collapsed": true
   },
   "outputs": [],
   "source": [
    "def _get_stochastic_row_for_initialization(N):\n",
    "    eps = (1./N)*(1/100.0)\n",
    "    if N%2:\n",
    "        row = [1./N + (-1.0)**i*eps for i in range(N-1)] + [1./N]\n",
    "    else:\n",
    "        row = [1./N + (-1.0)**i*eps for i in range(N)]\n",
    "        \n",
    "    return row"
   ]
  },
  {
   "cell_type": "code",
   "execution_count": 10,
   "metadata": {
    "collapsed": true
   },
   "outputs": [],
   "source": [
    "# Build a HMM class that will output predictions of classes\n",
    "class HMM(object):\n",
    "    \"\"\"docstring for HMM.\"\"\"\n",
    "    def __init__(self, arg):\n",
    "        super(HMM, self).__init__()\n",
    "        self.arg = arg"
   ]
  },
  {
   "cell_type": "code",
   "execution_count": 152,
   "metadata": {
    "collapsed": true
   },
   "outputs": [],
   "source": [
    "# based on  \"A Revealing Introduction to Hidden Markov Models\"\n",
    "\n",
    "N,M = 5,4\n",
    "# these should not be uniform. \n",
    "# make them row stochastic, etc. \n",
    "A = np.ones((N,N))*_get_stochastic_row_for_initialization(N)\n",
    "B = np.ones((N,M))*_get_stochastic_row_for_initialization(M)\n",
    "pi = np.ones((N))*_get_stochastic_row_for_initialization(N)\n",
    "\n",
    "maxIters = 100\n",
    "iters = 0\n",
    "oldLogProb = -np.inf\n",
    "\n",
    "def _compute_params(A,B,pi,Obs):\n",
    "    N,M = B.shape\n",
    "    T = len(Obs)\n",
    "    \n",
    "    c = [0.0]*T\n",
    "    alpha  = np.ones((T,N))\n",
    "    beta   = np.ones((T,N))\n",
    "    gamma  = np.ones((T,N,N))\n",
    "    gamma2 = np.ones((T,N))\n",
    "    \n",
    "    # compute a_0(i)\n",
    "    alpha[0,:] = [pi[i]*B[i,int(Obs[0])] for i in range(N)]\n",
    "    c[0] = np.sum(alpha[0,:])\n",
    "    \n",
    "    # scale a_0[i]\n",
    "    c[0] = 1.0/c[0]\n",
    "    alpha[0,:] = [c[0]*alpha[0,i] for i in range(N)]\n",
    "    \n",
    "    # compute a_t(i)\n",
    "    for t in range(1,T):\n",
    "        for i in range(N):\n",
    "            alpha[t,i] = 0.0\n",
    "            \n",
    "            #for j in range(N):\n",
    "            #    alpha[t,i] += alpha[t-1,j]*A[j,i]\n",
    "            alpha[t,i] = np.sum([alpha[t-1,j]*A[j,i] for j in range(N)])\n",
    "            alpha[t,i] = alpha[t,i]*B[i,Obs[t]]\n",
    "            c[t] += alpha[t,i]\n",
    "            \n",
    "        # scale alpha[t,i]\n",
    "        c[t] = 1.0/c[t]\n",
    "\n",
    "        #for i in range(N):\n",
    "        #    alpha[t,i] = c[t]*alpha[t,i]\n",
    "        alpha[t,:] = [c[t]*alpha[t,i] for i in range(N)]    \n",
    "    #### BETA\n",
    "    beta[T-1,:] = [c[T-1]]*N\n",
    "    \n",
    "    # beta pass\n",
    "    for t in range(T-2,-1,-1):\n",
    "        for i in range(N):\n",
    "            beta[t,i] = 0.0\n",
    "            \n",
    "            #for j in range(N):\n",
    "            #    beta[t,i] += A[i,j]*B[j,Obs[t+1]]*beta[t+1,j]\n",
    "            beta[t,i] = np.sum([A[i,j]*B[j,Obs[t+1]]*beta[t+1,j] for j in range(N)])\n",
    "            #scale by same factor\n",
    "            beta[t,i] = c[t]*beta[t,i]\n",
    "    \n",
    "    # gamma\n",
    "    for t in range(T-1):\n",
    "        denom = 0.0\n",
    "        for i in range(N):\n",
    "            for j in range(N):\n",
    "                denom += alpha[t,i]*A[i,j]*B[j,Obs[t+1]]*beta[t+1,j]\n",
    "        \n",
    "        for i in range(N):\n",
    "            gamma2[t,i] = 0.0\n",
    "            for j in range(N):\n",
    "                gamma[t,i,j] = (alpha[t,i]*A[i,j]*B[j,Obs[t+1]]*beta[t+1,j])/denom\n",
    "                gamma2[t,i] += gamma[t,i,j]\n",
    "                \n",
    "                \n",
    "    # special case\n",
    "    denom = np.sum(alpha[T-1,:])\n",
    "    gamma2[T-1,:] = [alpha[T-1,i]/denom for i in range(N)]\n",
    "    \n",
    "    # resestimate A,B,pi\n",
    "    # reestimate pi\n",
    "    pi = gamma2[0,:]\n",
    "    \n",
    "    # re-estimate A\n",
    "    for i in range(N):\n",
    "        for j in range(N):\n",
    "            numer,denom = 0.0,0.0\n",
    "            \n",
    "            for t in range(T-1):\n",
    "                numer += gamma[t,i,j]\n",
    "                denom += gamma2[t,i]\n",
    "            A[i,j] = numer/denom\n",
    "            \n",
    "    # re-estimate B\n",
    "    for i in range(N):\n",
    "        for j in range(M):\n",
    "            numer,denom = 0.0,0.0\n",
    "            \n",
    "            for t in range(T):\n",
    "                if Obs[t] == j:\n",
    "                    numer += gamma2[t,i]\n",
    "                denom += gamma2[t,i]\n",
    "            B[i,j] = numer/denom\n",
    "            \n",
    "    # compute log[P(Obs|lambda)]\n",
    "    logProb = -np.sum([np.log(val) for val in c])\n",
    "    return logProb,pi,A,B\n",
    "\n",
    "def HMM(A,B,pi,Obs,maxIters=100,oldLogProb=-np.inf):\n",
    "    iters = 0\n",
    "    logProb,pi,A,B = _compute_params(A,B,pi,Obs)\n",
    "    \n",
    "    while (iters < maxIters and logProb > oldLogProb):\n",
    "        oldLogProb = logProb\n",
    "        logProb,pi,A,B = _compute_params(A,B,pi,Obs)\n",
    "        iters+=1\n",
    "    return pi,A,B"
   ]
  },
  {
   "cell_type": "code",
   "execution_count": 156,
   "metadata": {},
   "outputs": [
    {
     "data": {
      "text/plain": [
       "(array([ 0.202,  0.198,  0.202,  0.198,  0.2  ]),\n",
       " array([[ 0.202,  0.198,  0.202,  0.198,  0.2  ],\n",
       "        [ 0.202,  0.198,  0.202,  0.198,  0.2  ],\n",
       "        [ 0.202,  0.198,  0.202,  0.198,  0.2  ],\n",
       "        [ 0.202,  0.198,  0.202,  0.198,  0.2  ],\n",
       "        [ 0.202,  0.198,  0.202,  0.198,  0.2  ]]),\n",
       " array([[ 0.25,  0.5 ,  0.  ,  0.25],\n",
       "        [ 0.25,  0.5 ,  0.  ,  0.25],\n",
       "        [ 0.25,  0.5 ,  0.  ,  0.25],\n",
       "        [ 0.25,  0.5 ,  0.  ,  0.25],\n",
       "        [ 0.25,  0.5 ,  0.  ,  0.25]]))"
      ]
     },
     "execution_count": 156,
     "metadata": {},
     "output_type": "execute_result"
    }
   ],
   "source": [
    "\n",
    "N,M = 5,4\n",
    "# these should not be uniform. \n",
    "# make them row stochastic, etc. \n",
    "A = np.ones((N,N))*_get_stochastic_row_for_initialization(N)\n",
    "B = np.ones((N,M))*_get_stochastic_row_for_initialization(M)\n",
    "pi = np.ones((N))*_get_stochastic_row_for_initialization(N)\n",
    "\n",
    "maxIters = 100\n",
    "iters = 0\n",
    "oldLogProb = -np.inf\n",
    "Obs = [1,1,0,3]\n",
    "#_compute_params(A,B,pi,Obs)\n",
    "HMM(A,B,pi,Obs)"
   ]
  },
  {
   "cell_type": "code",
   "execution_count": 155,
   "metadata": {
    "scrolled": true
   },
   "outputs": [
    {
     "data": {
      "text/plain": [
       "(array([ 0.202,  0.198,  0.202,  0.198,  0.2  ]),\n",
       " array([[ 0.202,  0.198,  0.202,  0.198,  0.2  ],\n",
       "        [ 0.202,  0.198,  0.202,  0.198,  0.2  ],\n",
       "        [ 0.202,  0.198,  0.202,  0.198,  0.2  ],\n",
       "        [ 0.202,  0.198,  0.202,  0.198,  0.2  ],\n",
       "        [ 0.202,  0.198,  0.202,  0.198,  0.2  ]]),\n",
       " array([[ 0.25,  0.5 ,  0.  ,  0.25],\n",
       "        [ 0.25,  0.5 ,  0.  ,  0.25],\n",
       "        [ 0.25,  0.5 ,  0.  ,  0.25],\n",
       "        [ 0.25,  0.5 ,  0.  ,  0.25],\n",
       "        [ 0.25,  0.5 ,  0.  ,  0.25]]))"
      ]
     },
     "execution_count": 155,
     "metadata": {},
     "output_type": "execute_result"
    }
   ],
   "source": [
    "\n",
    "N,M = 5,4\n",
    "# these should not be uniform. \n",
    "# make them row stochastic, etc. \n",
    "A = np.ones((N,N))*_get_stochastic_row_for_initialization(N)\n",
    "B = np.ones((N,M))*_get_stochastic_row_for_initialization(M)\n",
    "pi = np.ones((N))*_get_stochastic_row_for_initialization(N)\n",
    "\n",
    "maxIters = 100\n",
    "iters = 0\n",
    "oldLogProb = -np.inf\n",
    "Obs = [1,1,0,3]\n",
    "#_compute_params(A,B,pi,Obs)\n",
    "HMM(A,B,pi,Obs)"
   ]
  },
  {
   "cell_type": "code",
   "execution_count": 157,
   "metadata": {},
   "outputs": [
    {
     "name": "stdout",
     "output_type": "stream",
     "text": [
      "[ 0.  1.] \n",
      "\n",
      " [[  0.00000000e+00   1.00000000e+00]\n",
      " [  1.00000000e+00   1.07440277e-91]] \n",
      "\n",
      " [[  9.47123843e-321   5.00000000e-001   5.00000000e-001]\n",
      " [  1.00000000e+000   8.87730978e-181   1.07440277e-091]]\n"
     ]
    }
   ],
   "source": [
    "# Toy Problem\n",
    "AA = np.array([0.7,0.3,0.4,0.6]).reshape(2,2)\n",
    "BB = np.array([0.1,0.4,0.5,0.7,0.2,0.1]).reshape(2,3)\n",
    "pi = np.array([0.6,0.4])\n",
    "Obs = np.array([0,1,0,2])\n",
    "pi,A,B = HMM(AA,BB,pi,Obs)\n",
    "print(pi,\"\\n\\n\",A,\"\\n\\n\",B)"
   ]
  },
  {
   "cell_type": "code",
   "execution_count": 135,
   "metadata": {
    "collapsed": true
   },
   "outputs": [],
   "source": [
    "\n",
    "\n",
    "def get_brown_corpus_observations(nmbr_obs = 100):\n",
    "    brown = []\n",
    "    with open('brown.txt','r') as f:\n",
    "        for line in f:\n",
    "            lower_line = line.lower()\n",
    "            final_line = re.sub(r'([^\\s\\w]|_)+', '', lower_line).strip()\n",
    "            if final_line == '':\n",
    "                continue\n",
    "            final_line = ' '.join(final_line.split())\n",
    "            final_line = ''.join(i for i in final_line if not i.isdigit())\n",
    "            brown.append(final_line)\n",
    "\n",
    "    output = []\n",
    "    while (len(output) < nmbr_obs):\n",
    "        for i,line in enumerate(brown):\n",
    "            for character in line:\n",
    "                if character == ' ':\n",
    "                    output.append(26)\n",
    "                else:\n",
    "                    output.append(ord(character) - 97)\n",
    "            output.append(26)\n",
    "    return output"
   ]
  },
  {
   "cell_type": "code",
   "execution_count": 136,
   "metadata": {
    "collapsed": true
   },
   "outputs": [],
   "source": [
    "N,M = 2,27\n",
    "# these should not be uniform.\n",
    "# make them row stochastic, etc.\n",
    "A = np.array([0.47468,0.52532,0.51656,0.48344]).reshape(2,2)\n",
    "B = np.ones((N,M))*_get_stochastic_row_for_initialization(M)\n",
    "pi = np.array([0.51316,0.48684])\n",
    "Obs =  np.array(get_brown_corpus_observations())#corpus construction\n",
    "#pi,A,B = HMM(A,B,pi,Obs)"
   ]
  },
  {
   "cell_type": "code",
   "execution_count": 285,
   "metadata": {
    "collapsed": true,
    "scrolled": true
   },
   "outputs": [],
   "source": [
    "\n",
    "A = np.array([0.7,0.3,0.4,0.6]).reshape(2,2)\n",
    "B = np.array([0.1,0.4,0.5,0.7,0.2,0.1]).reshape(2,3)\n",
    "pi = np.array([0.6,0.4])\n",
    "Obs = np.array([1,1,2])\n",
    "\n",
    "N,M = B.shape\n",
    "T = len(Obs)\n",
    "\n",
    "c = [0.0]*T\n",
    "alpha  = np.zeros((T,N))\n",
    "beta   = np.zeros((T,N))\n",
    "digamma  = np.zeros((T-1,N,N))\n",
    "gamma = np.zeros((T,N))\n",
    "\n",
    "def compute_normalization(alpha):\n",
    "    return [1./sum(alpha[t,:]) for t in range(T)]\n",
    "\n",
    "def scale_alpha_beta(alpha,beta,c):\n",
    "    for t in range(T):\n",
    "        alpha[t,:] = alpha[t,:]*c[t]\n",
    "        beta[t,:] = beta[t,:]*c[t]\n",
    "    return alpha,beta\n",
    "\n",
    "def get_alpha(A,B,pi,Obs):\n",
    "    alpha[0,:] = [pi[i]*B[i,int(Obs[0])] for i in range(N)]\n",
    "\n",
    "    for t in range(1,T):\n",
    "        for i in range(N):\n",
    "            alpha[t,i] = np.sum([alpha[t-1,j]*A[j,i] for j in range(N)])\n",
    "            alpha[t,i] = alpha[t,i]*B[i,Obs[t]]\n",
    "\n",
    "    return alpha\n",
    "\n",
    "def get_beta(A,B,pi,Obs):\n",
    "    beta[T-1,:] = [1.0]*N\n",
    "\n",
    "    for t in range(T-2,-1,-1):\n",
    "        for i in range(N):\n",
    "            beta[t,i] = np.sum([A[i,j]*B[j,Obs[t+1]]*beta[t+1,j] for j in range(N)])\n",
    "    return beta\n",
    "\n",
    "def get_digamma(A,B,pi,Obs,alpha,beta):# gamma\n",
    "    for t in range(T-1):\n",
    "        denom = 0.0\n",
    "        for i in range(N):\n",
    "            for j in range(N):\n",
    "                denom += alpha[t,i]*A[i,j]*B[j,Obs[t+1]]*beta[t+1,j]\n",
    "\n",
    "        for i in range(N):\n",
    "            for j in range(N):\n",
    "                digamma[t,i,j] = (alpha[t,i]*A[i,j]*B[j,Obs[t+1]]*beta[t+1,j])/denom\n",
    "    return digamma\n",
    "\n",
    "def get_gamma(digamma,alpha):\n",
    "    for t in range(T-1):\n",
    "        gamma[t,:] = [np.sum([digamma[t,i,:]]) for i in range(N)]\n",
    "        \n",
    "    ## special case T-1\n",
    "    denom = np.sum(alpha[T-1,:])\n",
    "    gamma[T-1,:] = [alpha[T-1,i]/denom for i in range(N)]\n",
    "    \n",
    "    return gamma\n",
    "\n",
    "def reestimate_model(A,B,pi,Obs,digamma,gamma):# resestimate A,B,pi\n",
    "    \n",
    "    # reestimate pi\n",
    "    pi = gamma[0,:]\n",
    "\n",
    "    # re-estimate A\n",
    "    for i in range(N):\n",
    "        for j in range(N):\n",
    "            numer,denom = 0.0,0.0\n",
    "\n",
    "            for t in range(T-1):\n",
    "                numer += digamma[t,i,j]\n",
    "                denom += gamma[t,i]\n",
    "            A[i,j] = numer/denom\n",
    "\n",
    "    # re-estimate B\n",
    "    for i in range(N):\n",
    "        for j in range(M):\n",
    "            numer,denom = 0.0,0.0\n",
    "\n",
    "            for t in range(T):\n",
    "                if Obs[t] == j:\n",
    "                    numer += gamma[t,i]\n",
    "                denom += gamma[t,i]\n",
    "            B[i,j] = numer/denom\n",
    "    return A,B,pi\n",
    "def get_log_prob(c):\n",
    "    return -np.sum([np.log(val) for val in c])\n",
    "\n",
    "def compute_params(A,B,pi,Obs):\n",
    "    alpha      = get_alpha(A,B,pi,Obs)\n",
    "    beta       = get_beta(A,B,pi,Obs)\n",
    "    c          = compute_normalization(alpha)\n",
    "    alpha,beta = scale_alpha_beta(alpha,beta,c)\n",
    "    digamma    = get_digamma(A,B,pi,Obs,alpha,beta)\n",
    "    gamma      = get_gamma(digamma,alpha)\n",
    "    A,B,pi     = reestimate_model(A,B,pi,Obs,digamma,gamma)\n",
    "    newLogProb = get_log_prob(c)\n",
    "    \n",
    "    return A,B,pi,newLogProb"
   ]
  },
  {
   "cell_type": "code",
   "execution_count": 286,
   "metadata": {
    "collapsed": true
   },
   "outputs": [],
   "source": [
    "def compute_model(A,B,pi,Obs,maxIters=100):\n",
    "    oldLogProb = -np.inf # may want to keep track\n",
    "    iters = 0\n",
    "    A,B,pi,newLogProb = compute_params(A,B,pi,Obs)\n",
    "\n",
    "    while (iters < maxIters and newLogProb > oldLogProb):\n",
    "        oldLogProb = newLogProb\n",
    "        A,B,pi,newLogProb = compute_params(A,B,pi,Obs)\n",
    "        iters+=1\n",
    "    return A,B,pi,newLogProb\n",
    "\n"
   ]
  },
  {
   "cell_type": "code",
   "execution_count": 292,
   "metadata": {},
   "outputs": [
    {
     "data": {
      "text/plain": [
       "array([[ 1.        ,  0.        ],\n",
       "       [ 0.66666667,  0.33333333]])"
      ]
     },
     "execution_count": 292,
     "metadata": {},
     "output_type": "execute_result"
    }
   ],
   "source": [
    "A,B,pi,newLogProb = compute_model(A,B,pi,Obs)\n",
    "A"
   ]
  },
  {
   "cell_type": "code",
   "execution_count": 313,
   "metadata": {
    "collapsed": true
   },
   "outputs": [],
   "source": []
  },
  {
   "cell_type": "code",
   "execution_count": 351,
   "metadata": {
    "collapsed": true
   },
   "outputs": [],
   "source": [
    "def viterbi(A,B,pi,Obs):\n",
    "    V = np.zeros((T,N))\n",
    "    \n",
    "    #Initialization is weird\n",
    "    path = {}\n",
    "    for i in range(N):\n",
    "        path[i] = [str(i)]\n",
    "    V[0,:] = [pi[i]*B[i,Obs[0]] for i in range(N)]\n",
    "    \n",
    "    for t in range(1,T):\n",
    "        newpath = {}\n",
    "        for i in range(N):\n",
    "            (prob, state) = max([(V[t-1,j] * A[j,i] * B[i,Obs[t]], j) for j in range(N)])\n",
    "            V[t,i] = prob\n",
    "            newpath[i] = path[state] + [str(i)]\n",
    "        path = newpath # Don't need to remember the old paths\n",
    "    (prob, state) = max([(V[T-1][j], j) for j in range(N)])\n",
    "    \n",
    "    return (prob, path[state])"
   ]
  },
  {
   "cell_type": "code",
   "execution_count": 352,
   "metadata": {},
   "outputs": [
    {
     "data": {
      "text/plain": [
       "['1', '0', '0']"
      ]
     },
     "execution_count": 352,
     "metadata": {},
     "output_type": "execute_result"
    }
   ],
   "source": [
    "A = np.array([0.7,0.3,0.4,0.6]).reshape(2,2)\n",
    "B = np.array([0.1,0.4,0.5,0.7,0.2,0.1]).reshape(2,3)\n",
    "pi = np.array([0.6,0.4])\n",
    "Obs = np.array([0,1,2])\n",
    "\n",
    "N,M = B.shape\n",
    "T = len(Obs)\n",
    "\n",
    "(prob, state) = viterbi(A,B,pi,Obs)\n",
    "prob\n",
    "state"
   ]
  },
  {
   "cell_type": "code",
   "execution_count": 345,
   "metadata": {
    "collapsed": true
   },
   "outputs": [],
   "source": [
    "obs = ('normal', 'cold', 'dizzy')\n",
    "states = ('Healthy', 'Fever')\n",
    "start_p = {'Healthy': 0.6, 'Fever': 0.4}\n",
    "trans_p = {\n",
    "   'Healthy' : {'Healthy': 0.7, 'Fever': 0.3},\n",
    "   'Fever' : {'Healthy': 0.4, 'Fever': 0.6}\n",
    "   }\n",
    "emit_p = {\n",
    "   'Healthy' : {'normal': 0.1, 'cold': 0.4, 'dizzy': 0.5},\n",
    "   'Fever' : {'normal': 0.7, 'cold': 0.2, 'dizzy': 0.1}\n",
    "   }\n",
    "def viterbi(obs, states, start_p, trans_p, emit_p):\n",
    "    V = [{}]\n",
    "    path = {}\n",
    "    for y in states:\n",
    "        V[0][y] = start_p[y] * emit_p[y][obs[0]]\t# Initialize base cases (t == 0)\n",
    "        path[y] = [y]\n",
    "        print([y],type([y]))\n",
    "        print(path[y])\n",
    "    for t in range(1,len(obs)):\t# Run Viterbi for t > 0\n",
    "        V.append({})\n",
    "        newpath = {}\n",
    "        for y in states:\n",
    "            (prob, state) = max([(V[t-1][y0] * trans_p[y0][y] * emit_p[y][obs[t]], y0) for y0 in states])\n",
    "            V[t][y] = prob\n",
    "            newpath[y] = path[state] + [y]\n",
    "        path = newpath\t# Don't need to remember the old paths\n",
    "\n",
    "    (prob, state) = max([(V[len(obs) - 1][y], y) for y in states])\n",
    "    return (prob, path[state])"
   ]
  },
  {
   "cell_type": "code",
   "execution_count": 346,
   "metadata": {},
   "outputs": [
    {
     "name": "stdout",
     "output_type": "stream",
     "text": [
      "['Healthy'] <class 'list'>\n",
      "['Healthy']\n",
      "['Fever'] <class 'list'>\n",
      "['Fever']\n"
     ]
    },
    {
     "data": {
      "text/plain": [
       "(0.01568, ['Fever', 'Healthy', 'Healthy'])"
      ]
     },
     "execution_count": 346,
     "metadata": {},
     "output_type": "execute_result"
    }
   ],
   "source": [
    "viterbi(obs,states,start_p,trans_p,emit_p)"
   ]
  },
  {
   "cell_type": "code",
   "execution_count": 308,
   "metadata": {},
   "outputs": [
    {
     "data": {
      "text/plain": [
       "[3, 4, 4, 5]"
      ]
     },
     "execution_count": 308,
     "metadata": {},
     "output_type": "execute_result"
    }
   ],
   "source": [
    "[3,4] + [4,5]"
   ]
  },
  {
   "cell_type": "code",
   "execution_count": 334,
   "metadata": {
    "collapsed": true
   },
   "outputs": [],
   "source": [
    "path = {}\n",
    "path[0] = 12\n",
    "path[1] = 1"
   ]
  },
  {
   "cell_type": "code",
   "execution_count": 335,
   "metadata": {},
   "outputs": [
    {
     "data": {
      "text/plain": [
       "12"
      ]
     },
     "execution_count": 335,
     "metadata": {},
     "output_type": "execute_result"
    }
   ],
   "source": [
    "path[0]"
   ]
  },
  {
   "cell_type": "code",
   "execution_count": 14,
   "metadata": {
    "collapsed": true
   },
   "outputs": [],
   "source": [
    "beta = np.zeros((10,4))\n",
    "beta[:,-1] = [4.9]*10\n"
   ]
  },
  {
   "cell_type": "code",
   "execution_count": 8,
   "metadata": {},
   "outputs": [
    {
     "data": {
      "text/plain": [
       "array([[ 0. ,  0. ,  0. ,  4.9],\n",
       "       [ 0. ,  0. ,  0. ,  4.9],\n",
       "       [ 0. ,  0. ,  0. ,  4.9],\n",
       "       [ 0. ,  0. ,  0. ,  4.9],\n",
       "       [ 0. ,  0. ,  0. ,  4.9],\n",
       "       [ 0. ,  0. ,  0. ,  4.9],\n",
       "       [ 0. ,  0. ,  0. ,  4.9],\n",
       "       [ 0. ,  0. ,  0. ,  4.9],\n",
       "       [ 0. ,  0. ,  0. ,  4.9],\n",
       "       [ 0. ,  0. ,  0. ,  4.9]])"
      ]
     },
     "execution_count": 8,
     "metadata": {},
     "output_type": "execute_result"
    }
   ],
   "source": [
    "beta"
   ]
  },
  {
   "cell_type": "code",
   "execution_count": 17,
   "metadata": {},
   "outputs": [
    {
     "data": {
      "text/plain": [
       "numpy.ndarray"
      ]
     },
     "execution_count": 17,
     "metadata": {},
     "output_type": "execute_result"
    }
   ],
   "source": [
    "type(beta2)"
   ]
  },
  {
   "cell_type": "code",
   "execution_count": 2,
   "metadata": {},
   "outputs": [],
   "source": [
    "import HMM as HMM\n",
    "A = np.array([0.7,0.3,0.4,0.6]).reshape(2,2)\n",
    "B = np.array([0.1,0.4,0.5,0.7,0.2,0.1]).reshape(2,3)\n",
    "pi = np.array([0.6,0.4])\n",
    "Obs = np.array([1,1,2])"
   ]
  },
  {
   "cell_type": "code",
   "execution_count": 16,
   "metadata": {},
   "outputs": [
    {
     "ename": "TypeError",
     "evalue": "HMM() takes 4 positional arguments but 5 were given",
     "output_type": "error",
     "traceback": [
      "\u001b[1;31m---------------------------------------------------------------------------\u001b[0m",
      "\u001b[1;31mTypeError\u001b[0m                                 Traceback (most recent call last)",
      "\u001b[1;32m<ipython-input-16-4ef7582e99b3>\u001b[0m in \u001b[0;36m<module>\u001b[1;34m()\u001b[0m\n\u001b[0;32m      1\u001b[0m \u001b[0mhmm\u001b[0m \u001b[1;33m=\u001b[0m \u001b[0mHMM\u001b[0m\u001b[1;33m.\u001b[0m\u001b[0mHMM\u001b[0m\u001b[1;33m(\u001b[0m\u001b[1;33m)\u001b[0m\u001b[1;33m\u001b[0m\u001b[0m\n\u001b[1;32m----> 2\u001b[1;33m \u001b[0mhmm\u001b[0m\u001b[1;33m.\u001b[0m\u001b[0mHMM\u001b[0m\u001b[1;33m(\u001b[0m\u001b[0mA\u001b[0m\u001b[1;33m,\u001b[0m\u001b[0mB\u001b[0m\u001b[1;33m,\u001b[0m\u001b[0mpi\u001b[0m\u001b[1;33m,\u001b[0m\u001b[0mObs\u001b[0m\u001b[1;33m)\u001b[0m\u001b[1;33m\u001b[0m\u001b[0m\n\u001b[0m",
      "\u001b[1;31mTypeError\u001b[0m: HMM() takes 4 positional arguments but 5 were given"
     ]
    }
   ],
   "source": [
    "hmm = HMM.HMM()\n",
    "hmm.HMM(A,B,pi,Obs)"
   ]
  },
  {
   "cell_type": "code",
   "execution_count": 13,
   "metadata": {},
   "outputs": [
    {
     "data": {
      "text/plain": [
       "{'maxIters': 1000, 'tol': 1e-06}"
      ]
     },
     "execution_count": 13,
     "metadata": {},
     "output_type": "execute_result"
    }
   ],
   "source": [
    "hmm.__dict__"
   ]
  },
  {
   "cell_type": "code",
   "execution_count": null,
   "metadata": {
    "collapsed": true
   },
   "outputs": [],
   "source": []
  }
 ],
 "metadata": {
  "anaconda-cloud": {},
  "kernelspec": {
   "display_name": "Python 3",
   "language": "python",
   "name": "python3"
  },
  "language_info": {
   "codemirror_mode": {
    "name": "ipython",
    "version": 3
   },
   "file_extension": ".py",
   "mimetype": "text/x-python",
   "name": "python",
   "nbconvert_exporter": "python",
   "pygments_lexer": "ipython3",
   "version": "3.6.3"
  }
 },
 "nbformat": 4,
 "nbformat_minor": 2
}
